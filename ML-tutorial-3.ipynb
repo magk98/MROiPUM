{
 "cells": [
  {
   "cell_type": "markdown",
   "metadata": {},
   "source": [
    "# SVM w praktyce"
   ]
  },
  {
   "cell_type": "markdown",
   "metadata": {},
   "source": [
    "Zbiór WBreastCancer - przypomnienie\n",
    "\n",
    "Zbiór <a href=\"https://archive.ics.uci.edu/ml/datasets/Breast+Cancer+Wisconsin+%28Diagnostic%29\"><b>Breast Cancer Wisconsin (Diagnostic) Data Set</b></a> dotyczy klasyfikacji raka piersi jako złośliwego bądź łagodnego na podstawie pomiarów jąder komórkowych uzyskanych ze zdjęć pobranej masy.  \n",
    "\n",
    "Dla każdego przypadku oprócz identyfikatora pacjenta oraz diagnozy podane są zmierzone wartości dotyczące jąder komórkowych. Mierzonych cech jest 10, natomiast dla każdej z nich podana jest najpierw wartość średnia, następnie wartość błędu standardowego, a na koniec najgorsza ze zmierzonych wartości, co daje w sumie 30 cech.  \n",
    "\n",
    "Wszystkich przypadków jest 569"
   ]
  },
  {
   "cell_type": "code",
   "execution_count": 1,
   "metadata": {},
   "outputs": [],
   "source": [
    "import numpy as np\n",
    "import pandas as pd\n",
    "import warnings\n",
    "warnings.simplefilter(action='ignore', category=FutureWarning)\n",
    "\n",
    "from sklearn.datasets import load_breast_cancer\n",
    "cancer = load_breast_cancer()"
   ]
  },
  {
   "cell_type": "code",
   "execution_count": 2,
   "metadata": {},
   "outputs": [
    {
     "data": {
      "text/html": [
       "<div>\n",
       "<style scoped>\n",
       "    .dataframe tbody tr th:only-of-type {\n",
       "        vertical-align: middle;\n",
       "    }\n",
       "\n",
       "    .dataframe tbody tr th {\n",
       "        vertical-align: top;\n",
       "    }\n",
       "\n",
       "    .dataframe thead th {\n",
       "        text-align: right;\n",
       "    }\n",
       "</style>\n",
       "<table border=\"1\" class=\"dataframe\">\n",
       "  <thead>\n",
       "    <tr style=\"text-align: right;\">\n",
       "      <th></th>\n",
       "      <th>diagnosis</th>\n",
       "      <th>mean radius</th>\n",
       "      <th>mean texture</th>\n",
       "      <th>mean perimeter</th>\n",
       "      <th>mean area</th>\n",
       "      <th>mean smoothness</th>\n",
       "      <th>mean compactness</th>\n",
       "      <th>mean concavity</th>\n",
       "      <th>mean concave points</th>\n",
       "      <th>mean symmetry</th>\n",
       "      <th>...</th>\n",
       "      <th>worst radius</th>\n",
       "      <th>worst texture</th>\n",
       "      <th>worst perimeter</th>\n",
       "      <th>worst area</th>\n",
       "      <th>worst smoothness</th>\n",
       "      <th>worst compactness</th>\n",
       "      <th>worst concavity</th>\n",
       "      <th>worst concave points</th>\n",
       "      <th>worst symmetry</th>\n",
       "      <th>worst fractal dimension</th>\n",
       "    </tr>\n",
       "  </thead>\n",
       "  <tbody>\n",
       "    <tr>\n",
       "      <th>0</th>\n",
       "      <td>0.0</td>\n",
       "      <td>17.99</td>\n",
       "      <td>10.38</td>\n",
       "      <td>122.80</td>\n",
       "      <td>1001.0</td>\n",
       "      <td>0.11840</td>\n",
       "      <td>0.27760</td>\n",
       "      <td>0.3001</td>\n",
       "      <td>0.14710</td>\n",
       "      <td>0.2419</td>\n",
       "      <td>...</td>\n",
       "      <td>25.38</td>\n",
       "      <td>17.33</td>\n",
       "      <td>184.60</td>\n",
       "      <td>2019.0</td>\n",
       "      <td>0.1622</td>\n",
       "      <td>0.6656</td>\n",
       "      <td>0.7119</td>\n",
       "      <td>0.2654</td>\n",
       "      <td>0.4601</td>\n",
       "      <td>0.11890</td>\n",
       "    </tr>\n",
       "    <tr>\n",
       "      <th>1</th>\n",
       "      <td>0.0</td>\n",
       "      <td>20.57</td>\n",
       "      <td>17.77</td>\n",
       "      <td>132.90</td>\n",
       "      <td>1326.0</td>\n",
       "      <td>0.08474</td>\n",
       "      <td>0.07864</td>\n",
       "      <td>0.0869</td>\n",
       "      <td>0.07017</td>\n",
       "      <td>0.1812</td>\n",
       "      <td>...</td>\n",
       "      <td>24.99</td>\n",
       "      <td>23.41</td>\n",
       "      <td>158.80</td>\n",
       "      <td>1956.0</td>\n",
       "      <td>0.1238</td>\n",
       "      <td>0.1866</td>\n",
       "      <td>0.2416</td>\n",
       "      <td>0.1860</td>\n",
       "      <td>0.2750</td>\n",
       "      <td>0.08902</td>\n",
       "    </tr>\n",
       "    <tr>\n",
       "      <th>2</th>\n",
       "      <td>0.0</td>\n",
       "      <td>19.69</td>\n",
       "      <td>21.25</td>\n",
       "      <td>130.00</td>\n",
       "      <td>1203.0</td>\n",
       "      <td>0.10960</td>\n",
       "      <td>0.15990</td>\n",
       "      <td>0.1974</td>\n",
       "      <td>0.12790</td>\n",
       "      <td>0.2069</td>\n",
       "      <td>...</td>\n",
       "      <td>23.57</td>\n",
       "      <td>25.53</td>\n",
       "      <td>152.50</td>\n",
       "      <td>1709.0</td>\n",
       "      <td>0.1444</td>\n",
       "      <td>0.4245</td>\n",
       "      <td>0.4504</td>\n",
       "      <td>0.2430</td>\n",
       "      <td>0.3613</td>\n",
       "      <td>0.08758</td>\n",
       "    </tr>\n",
       "    <tr>\n",
       "      <th>3</th>\n",
       "      <td>0.0</td>\n",
       "      <td>11.42</td>\n",
       "      <td>20.38</td>\n",
       "      <td>77.58</td>\n",
       "      <td>386.1</td>\n",
       "      <td>0.14250</td>\n",
       "      <td>0.28390</td>\n",
       "      <td>0.2414</td>\n",
       "      <td>0.10520</td>\n",
       "      <td>0.2597</td>\n",
       "      <td>...</td>\n",
       "      <td>14.91</td>\n",
       "      <td>26.50</td>\n",
       "      <td>98.87</td>\n",
       "      <td>567.7</td>\n",
       "      <td>0.2098</td>\n",
       "      <td>0.8663</td>\n",
       "      <td>0.6869</td>\n",
       "      <td>0.2575</td>\n",
       "      <td>0.6638</td>\n",
       "      <td>0.17300</td>\n",
       "    </tr>\n",
       "    <tr>\n",
       "      <th>4</th>\n",
       "      <td>0.0</td>\n",
       "      <td>20.29</td>\n",
       "      <td>14.34</td>\n",
       "      <td>135.10</td>\n",
       "      <td>1297.0</td>\n",
       "      <td>0.10030</td>\n",
       "      <td>0.13280</td>\n",
       "      <td>0.1980</td>\n",
       "      <td>0.10430</td>\n",
       "      <td>0.1809</td>\n",
       "      <td>...</td>\n",
       "      <td>22.54</td>\n",
       "      <td>16.67</td>\n",
       "      <td>152.20</td>\n",
       "      <td>1575.0</td>\n",
       "      <td>0.1374</td>\n",
       "      <td>0.2050</td>\n",
       "      <td>0.4000</td>\n",
       "      <td>0.1625</td>\n",
       "      <td>0.2364</td>\n",
       "      <td>0.07678</td>\n",
       "    </tr>\n",
       "  </tbody>\n",
       "</table>\n",
       "<p>5 rows × 31 columns</p>\n",
       "</div>"
      ],
      "text/plain": [
       "   diagnosis  mean radius  mean texture  mean perimeter  mean area  \\\n",
       "0        0.0        17.99         10.38          122.80     1001.0   \n",
       "1        0.0        20.57         17.77          132.90     1326.0   \n",
       "2        0.0        19.69         21.25          130.00     1203.0   \n",
       "3        0.0        11.42         20.38           77.58      386.1   \n",
       "4        0.0        20.29         14.34          135.10     1297.0   \n",
       "\n",
       "   mean smoothness  mean compactness  mean concavity  mean concave points  \\\n",
       "0          0.11840           0.27760          0.3001              0.14710   \n",
       "1          0.08474           0.07864          0.0869              0.07017   \n",
       "2          0.10960           0.15990          0.1974              0.12790   \n",
       "3          0.14250           0.28390          0.2414              0.10520   \n",
       "4          0.10030           0.13280          0.1980              0.10430   \n",
       "\n",
       "   mean symmetry  ...  worst radius  worst texture  worst perimeter  \\\n",
       "0         0.2419  ...         25.38          17.33           184.60   \n",
       "1         0.1812  ...         24.99          23.41           158.80   \n",
       "2         0.2069  ...         23.57          25.53           152.50   \n",
       "3         0.2597  ...         14.91          26.50            98.87   \n",
       "4         0.1809  ...         22.54          16.67           152.20   \n",
       "\n",
       "   worst area  worst smoothness  worst compactness  worst concavity  \\\n",
       "0      2019.0            0.1622             0.6656           0.7119   \n",
       "1      1956.0            0.1238             0.1866           0.2416   \n",
       "2      1709.0            0.1444             0.4245           0.4504   \n",
       "3       567.7            0.2098             0.8663           0.6869   \n",
       "4      1575.0            0.1374             0.2050           0.4000   \n",
       "\n",
       "   worst concave points  worst symmetry  worst fractal dimension  \n",
       "0                0.2654          0.4601                  0.11890  \n",
       "1                0.1860          0.2750                  0.08902  \n",
       "2                0.2430          0.3613                  0.08758  \n",
       "3                0.2575          0.6638                  0.17300  \n",
       "4                0.1625          0.2364                  0.07678  \n",
       "\n",
       "[5 rows x 31 columns]"
      ]
     },
     "execution_count": 2,
     "metadata": {},
     "output_type": "execute_result"
    }
   ],
   "source": [
    "# podgląd danych\n",
    "\n",
    "df_cancer = pd.DataFrame(data = np.concatenate((cancer['target'].reshape((569,1)),cancer['data']), axis=1), \n",
    "                         columns=np.concatenate((['diagnosis'], cancer['feature_names'])))\n",
    "df_cancer.head()"
   ]
  },
  {
   "cell_type": "markdown",
   "metadata": {},
   "source": [
    "0.0 - nowotwór jest złośliwy\n",
    "\n",
    "1.0 - nowotwór nie jest złośliwy"
   ]
  },
  {
   "cell_type": "code",
   "execution_count": 3,
   "metadata": {},
   "outputs": [],
   "source": [
    "data_cancer_x = cancer['data']\n",
    "data_cancer_y = cancer['target']"
   ]
  },
  {
   "cell_type": "markdown",
   "metadata": {},
   "source": [
    "Wizualizacja danych - użycie PCA do przetransformowania danych z 30 wymiarów do dwóch:"
   ]
  },
  {
   "cell_type": "code",
   "execution_count": 4,
   "metadata": {},
   "outputs": [],
   "source": [
    "# konieczna dla przeprowadzenia PCA standaryzacja danych:\n",
    "\n",
    "from sklearn.preprocessing import StandardScaler\n",
    "scaler = StandardScaler()\n",
    "scaler.fit(data_cancer_x)\n",
    "scaled_data = scaler.transform(data_cancer_x) "
   ]
  },
  {
   "cell_type": "code",
   "execution_count": 5,
   "metadata": {},
   "outputs": [],
   "source": [
    "from sklearn.decomposition import PCA\n",
    "pca = PCA(n_components=2)\n",
    "pca.fit(scaled_data)\n",
    "pca_data = pca.transform(scaled_data)"
   ]
  },
  {
   "cell_type": "code",
   "execution_count": 6,
   "metadata": {},
   "outputs": [
    {
     "data": {
      "image/png": "[encoded data removed]",
      "text/plain": [
       "<Figure size 864x648 with 1 Axes>"
      ]
     },
     "metadata": {
      "needs_background": "light"
     },
     "output_type": "display_data"
    }
   ],
   "source": [
    "import matplotlib.pyplot as plt\n",
    "plt.figure(figsize=(12,9))\n",
    "plt.scatter(pca_data[:,0],pca_data[:,1],c=data_cancer_y,cmap='rainbow')\n",
    "plt.xlabel('First principal component')\n",
    "plt.ylabel('Second Principal Component')\n",
    "plt.show()"
   ]
  },
  {
   "cell_type": "markdown",
   "metadata": {},
   "source": [
    "Pokażemy teraz działanie SVM, próbując rozdzielić dane uzyskane poprzez zastosowanie PCA za pomocą linii:"
   ]
  },
  {
   "cell_type": "code",
   "execution_count": 7,
   "metadata": {},
   "outputs": [],
   "source": [
    "# przygotowanie danych - \"1\" dla złośliwych nowotworów, \"-1\" dla niezłośliwych\n",
    "\n",
    "new_y = []\n",
    "for val in data_cancer_y:\n",
    "    if(val == 1.0):\n",
    "        new_y.append(-1)\n",
    "    else:\n",
    "        new_y.append(1)\n",
    "new_y = np.array(new_y)"
   ]
  },
  {
   "cell_type": "code",
   "execution_count": 8,
   "metadata": {},
   "outputs": [],
   "source": [
    "from sklearn.utils import shuffle\n",
    "from sklearn.model_selection import train_test_split\n",
    "\n",
    "# tasowanie danych i rozdzielenie na training oraz test sets\n",
    "\n",
    "X, y = shuffle(pca_data, new_y)\n",
    "x_train, x_test, y_train, y_test = train_test_split(X, y, test_size=0.1)\n",
    "y_train = y_train.reshape((y_train.shape[0],1))\n",
    "y_test = y_test.reshape(y_test.shape[0],1)"
   ]
  },
  {
   "cell_type": "markdown",
   "metadata": {},
   "source": [
    "Funkcja, którą będziemy chcieli rozdzielić dane, ma postać y = wx + b.\n",
    "\n",
    "Dla uproszczenia prezentacji matematyki stojącej za działaniem SVM, każda z wag w oraz bias b są osobnymi zmiennymi.\n",
    "\n",
    "Używana przez nas funkcja straty - hinge loss - ma postać:\n",
    "\n",
    "$ c(x,y,f(x)) = max(0, 1 - y * f(x)) $\n",
    "\n",
    "Po dodaniu parametru lambda, odpowiadającego za regularyzację, funkcja kosztu ma postać:\n",
    "\n",
    "min<sub>w</sub> &lambda; ||w||<sup>2</sup> + &sum;(1 - y<sub>i</sub> <x<sub>i</sub>, w>)<sub>+</sub>\n",
    "\n",
    "Aby znaleźć gradient, należy policzyć pochodne cząstkowe funkcji kosztu względem wag. Mając obliczony gradient, można aktualizować wagi.\n",
    "\n",
    "Więcej informacji: https://towardsdatascience.com/support-vector-machine-introduction-to-machine-learning-algorithms-934a444fca47"
   ]
  },
  {
   "cell_type": "code",
   "execution_count": 9,
   "metadata": {},
   "outputs": [],
   "source": [
    "# SVM\n",
    "\n",
    "train_f0 = np.ones((x_train.shape[0], 1))\n",
    "train_f1 = x_train[:,0]\n",
    "train_f2 = x_train[:,1]\n",
    "\n",
    "train_f1 = train_f1.reshape(train_f1.shape[0],1)\n",
    "train_f2 = train_f2.reshape(train_f2.shape[0],1)\n",
    "\n",
    "b = 0\n",
    "w1 = 0\n",
    "w2 = 0\n",
    "\n",
    "epochs = 1\n",
    "alpha = 0.0001\n",
    "\n",
    "while(epochs < 10000):\n",
    "    y = w1 * train_f1 + w2 * train_f2 + b * train_f0  # obliczamy wartość funkcji y\n",
    "    prod = y * y_train  # sprawdzenie poprawności klasyfikacji - potrzebne do określenia wartości funkcji hinge loss\n",
    "    print(epochs)\n",
    "    count = 0\n",
    "    for val in prod: # określanie wartości funkcji hinge loss, aktualizacja parametrów\n",
    "        if(val >= 1):\n",
    "            cost = 0\n",
    "            # w = w - alpha * (2 * lambda * w) - poprawna klasyfikacja, aktualizacja wag ze względu na \n",
    "            # gradient regularyzacji\n",
    "            b = b - alpha * (2 * 1/epochs * b)\n",
    "            w1 = w1 - alpha * (2 * 1/epochs * w1)\n",
    "            w2 = w2 - alpha * (2 * 1/epochs * w2)\n",
    "            \n",
    "        else:\n",
    "            cost = 1 - val \n",
    "            # w = w + alpha * (x_i * y_i - 2 * lambda * w) - niepoprawna klasyfikacja, \n",
    "            # uwzględnienie również gradientu funkcji straty\n",
    "            b = b + alpha * (train_f0[count] * y_train[count] - 2 * 1/epochs * b)\n",
    "            w1 = w1 + alpha * (train_f1[count] * y_train[count] - 2 * 1/epochs * w1)\n",
    "            w2 = w2 + alpha * (train_f2[count] * y_train[count] - 2 * 1/epochs * w2)\n",
    "\n",
    "        count += 1\n",
    "    epochs += 1"
   ]
  },
  {
   "cell_type": "markdown",
   "metadata": {},
   "source": [
    "Jak można zauważyć, w powyższym kodzie alpha pełni funkcję learning rate, natomiast wartość parametru lambda jest ustawiona na 1/epochs (a więc maleje w miarę wzrostu liczby epok).\n",
    "\n",
    "Sprawdźmy teraz, jak nasz wytrenowany klasyfikator poradzi sobie ze zbiorem testowym:"
   ]
  },
  {
   "cell_type": "code",
   "execution_count": 10,
   "metadata": {},
   "outputs": [
    {
     "name": "stdout",
     "output_type": "stream",
     "text": [
      "0.5964912280701754\n"
     ]
    }
   ],
   "source": [
    "from sklearn.metrics import accuracy_score\n",
    "\n",
    "test_f0 = np.ones((x_test.shape[0], 1))\n",
    "test_f1 = x_test[:,0]\n",
    "test_f2 = x_test[:,1]\n",
    "\n",
    "test_f1 = test_f1.reshape(x_test.shape[0],1)\n",
    "test_f2 = test_f2.reshape(x_test.shape[0],1)\n",
    "\n",
    "# Predykcja\n",
    "y_pred = w1 * test_f1 + w2 * test_f2 + b * test_f0\n",
    "predictions = []\n",
    "for val in y_pred:\n",
    "    if(val > 1):\n",
    "        predictions.append(1)\n",
    "    else:\n",
    "        predictions.append(-1)\n",
    "\n",
    "print(accuracy_score(y_test,predictions))"
   ]
  },
  {
   "cell_type": "markdown",
   "metadata": {},
   "source": [
    "Oczywiście, można również wykorzystać gotowe implementacje SVM. Można w tym celu użyć scikit-learn:"
   ]
  },
  {
   "cell_type": "code",
   "execution_count": 11,
   "metadata": {},
   "outputs": [
    {
     "name": "stdout",
     "output_type": "stream",
     "text": [
      "0.9298245614035088\n"
     ]
    }
   ],
   "source": [
    "from sklearn.svm import SVC\n",
    "from sklearn.metrics import accuracy_score\n",
    "\n",
    "y_train = y_train.reshape((y_train.shape[0],))\n",
    "clf = SVC(kernel='linear', )\n",
    "clf.fit(x_train,y_train)\n",
    "y_pred = clf.predict(x_test)\n",
    "print(accuracy_score(y_test, y_pred))"
   ]
  },
  {
   "cell_type": "markdown",
   "metadata": {},
   "source": [
    "Sprawdźmy teraz, jak poradzi sobie SVM dla danych bez PCA:"
   ]
  },
  {
   "cell_type": "code",
   "execution_count": 12,
   "metadata": {},
   "outputs": [],
   "source": [
    "X, y = shuffle(data_cancer_x, data_cancer_y)\n",
    "x_train, x_test, y_train, y_test = train_test_split(X, y, test_size=0.1)"
   ]
  },
  {
   "cell_type": "code",
   "execution_count": 13,
   "metadata": {},
   "outputs": [
    {
     "name": "stdout",
     "output_type": "stream",
     "text": [
      "0.9824561403508771\n"
     ]
    }
   ],
   "source": [
    "y_train = y_train.reshape((y_train.shape[0],))\n",
    "clf = SVC(kernel='linear', )\n",
    "clf.fit(x_train,y_train)\n",
    "y_pred = clf.predict(x_test)\n",
    "print(accuracy_score(y_test, y_pred))"
   ]
  },
  {
   "cell_type": "markdown",
   "metadata": {},
   "source": [
    "sklearn.svm.SVC pozwala na dobieranie kernela oraz parametrów uczenia.\n",
    "\n",
    "Możliwe kernele to: ‘linear’, ‘poly’, ‘rbf’, ‘sigmoid’, ‘precomputed’ albo kernel stworzony przez siebie.\n",
    "\n",
    "Najważniejsze parametry uczenia, których wartości można dobierać, to:\n",
    "- C: parametr służący do regularyzacji, proporcjonalny do 1/lambda. Musi być liczbą dodatnią (default=1.0)\n",
    "- degree: stopień wielomianu (przy użyciu kernela 'poly')\n",
    "- gamma: współczynnik dla kerneli 'rbf', 'poly', 'sigmoid' ze zbioru {'scale', 'auto'} albo float (default='scale')\n",
    "- coef0: wartość \"r\" dla kerneli 'poly' i 'sigmoid', float (default=0.0)\n",
    "\n",
    "(szczegóły: https://scikit-learn.org/stable/modules/generated/sklearn.svm.SVC.html )\n",
    "\n",
    "Prześledźmy użycie SVM dla zbioru MNIST oraz różnych kerneli i wartości parametrów C:\n"
   ]
  },
  {
   "cell_type": "code",
   "execution_count": 14,
   "metadata": {},
   "outputs": [],
   "source": [
    "import tensorflow as tf\n",
    "from sklearn.utils import resample\n",
    "\n",
    "(x_train, y_train), (x_test, y_test) = tf.keras.datasets.mnist.load_data()\n",
    "x_train, y_train = resample(x_train, y_train, n_samples=500, replace=False, random_state=0)\n",
    "x_test, y_test = resample(x_test, y_test, n_samples=100, replace=False, random_state=0)\n",
    "x_train = x_train.reshape((x_train.shape[0],-1))\n",
    "x_test = x_test.reshape((x_test.shape[0],-1))"
   ]
  },
  {
   "cell_type": "code",
   "execution_count": 15,
   "metadata": {},
   "outputs": [],
   "source": [
    "from sklearn.preprocessing import StandardScaler\n",
    "\n",
    "scaler_mnist = StandardScaler().fit(x_train)\n",
    "x_train = scaler_mnist.transform(x_train)\n",
    "x_test = scaler_mnist.transform(x_test)"
   ]
  },
  {
   "cell_type": "code",
   "execution_count": 16,
   "metadata": {},
   "outputs": [
    {
     "name": "stdout",
     "output_type": "stream",
     "text": [
      "kernel=linear, C=0.001000, score=0.830000\n",
      "kernel=linear, C=0.010000, score=0.780000\n",
      "kernel=linear, C=0.100000, score=0.800000\n",
      "kernel=linear, C=1.000000, score=0.800000\n",
      "kernel=linear, C=10.000000, score=0.800000\n",
      "kernel=linear, C=100.000000, score=0.800000\n",
      "kernel=linear, C=1000.000000, score=0.800000\n",
      "kernel=poly, C=0.001000, score=0.110000\n",
      "kernel=poly, C=0.010000, score=0.110000\n",
      "kernel=poly, C=0.100000, score=0.140000\n",
      "kernel=poly, C=1.000000, score=0.380000\n",
      "kernel=poly, C=10.000000, score=0.720000\n",
      "kernel=poly, C=100.000000, score=0.740000\n",
      "kernel=poly, C=1000.000000, score=0.740000\n",
      "kernel=rbf, C=0.001000, score=0.100000\n",
      "kernel=rbf, C=0.010000, score=0.100000\n",
      "kernel=rbf, C=0.100000, score=0.390000\n",
      "kernel=rbf, C=1.000000, score=0.810000\n",
      "kernel=rbf, C=10.000000, score=0.810000\n",
      "kernel=rbf, C=100.000000, score=0.810000\n",
      "kernel=rbf, C=1000.000000, score=0.810000\n",
      "kernel=sigmoid, C=0.001000, score=0.100000\n",
      "kernel=sigmoid, C=0.010000, score=0.100000\n",
      "kernel=sigmoid, C=0.100000, score=0.650000\n",
      "kernel=sigmoid, C=1.000000, score=0.850000\n",
      "kernel=sigmoid, C=10.000000, score=0.750000\n",
      "kernel=sigmoid, C=100.000000, score=0.710000\n",
      "kernel=sigmoid, C=1000.000000, score=0.710000\n"
     ]
    }
   ],
   "source": [
    "for kernel in ['linear', 'poly', 'rbf', 'sigmoid']:\n",
    "    for C in [0.001, 0.01, 0.1, 1, 10, 100, 1000]:\n",
    "        clf = SVC(C=C, kernel=kernel, )\n",
    "        clf.fit(x_train,y_train)\n",
    "        y_pred = clf.predict(x_test)\n",
    "        score = accuracy_score(y_test, y_pred)\n",
    "        print('kernel=%s, C=%f, score=%f' %(kernel, C, score))"
   ]
  },
  {
   "cell_type": "markdown",
   "metadata": {},
   "source": [
    "## Zadanie:"
   ]
  },
  {
   "cell_type": "markdown",
   "metadata": {},
   "source": [
    "Na podstawie powyższych eksperymentów, dobierz odpowiedni kernel i parametry uczenia dla wybranego przez siebie zbioru danych. Nie ograniczaj się przy tym wyłącznie do dobierania wartości C, poeksperymentuj również z parametrami charakterystycznymi dla odpowiednich kerneli."
   ]
  },
  {
   "cell_type": "markdown",
   "metadata": {},
   "source": [
    "# Walidacja klasyfikacji"
   ]
  },
  {
   "cell_type": "markdown",
   "metadata": {},
   "source": [
    "Podczas ewaluacji różnych ustawień hiperparametrów dla estymatorów, takich jak ustawienie *C* które musi zostać manualnie ustawione dla SVM, istnieje ryzyko **overfittingu** na zbiorze testowym, ponieważ parametry mogą być modyfikowane dopóki estymator nie będzie zachowywał się optymalnie. \n",
    "Poprzez to, wiedza o modelu testowym może \"przedostać\" się do modelu. W taki sposób model \"dopasowuje\" się do konretnego zbioru testowego. \n",
    "Aby uniknąć takiego problemu dane można podzielić na zbiór treningowy, testowy oraz walidacyny. \n",
    "* Trenowanie modelu odbywa się na **zbiorze treningowym**.\n",
    "* Po wytrenowaniu modelu wykonywana jest ewaluacja na **zbiorze walidacyjnym**, aby ostateczne hiperparametry wybrać w oparciu o wynik na zbiorze walidacyjnym.\n",
    "* Ostatecznie odbywa się ewaluacja na **zbiorze testowym**, wówczas wynik na zbiorze testowym daje wiarygodne oszacowanie jakości modelu dla nowych danych.  "
   ]
  },
  {
   "cell_type": "markdown",
   "metadata": {},
   "source": [
    "### Podsumowując:\n",
    "**Zbiór wlidacyjny** - służy do wyboru hiperparametrów, stosowany aby uniknąć dopasowania modelu do danych testowych  \n",
    "**Zbiór testowy** - służy do testowania jakości modelu"
   ]
  },
  {
   "cell_type": "markdown",
   "metadata": {},
   "source": [
    "## Cross Validation"
   ]
  },
  {
   "cell_type": "markdown",
   "metadata": {},
   "source": [
    "Dzieląc dane na trzy zestway, drestycznie zmiejszamy liczbę próbek, które możemy wykorzystać do nauki modelu, a wyniki mogą zależeć od losowego wyboru zbioru treningowego i walidacyjnego.  Roziązaniem tego problemu jest **cross-validation** (w skrócie CV). Zestaw testowy powinien być trzymany do ostatecznej oceny modelu, natomiast zestaw walidacyjny nie jest potrzebny gdy użyjemy CV.  \n",
    "W podstawowym podejściu zwanym **k-fold CV**, zestaw treningowy jest dzielony na *k* mniejszych zestawów.  \n",
    "Następnie k-krotnie stosuje się procedurę:  \n",
    "* Trenujemy model przy wykorzystaniu *k-1* mniejszych zestawów danych.\n",
    "\n",
    "Wynikowy model jest sprawdzany na danych treningowych. "
   ]
  },
  {
   "cell_type": "markdown",
   "metadata": {},
   "source": [
    "W skrócie:  \n",
    "**cross-validation** - umożliwienia przeprowadznenie walidacji bez wyodrębnionego zbioru walidacyjnego."
   ]
  },
  {
   "cell_type": "markdown",
   "metadata": {},
   "source": [
    "Najprostszym użyciem cross-validation jest funkcja **cross_val_score**.  \n",
    "  \n",
    "Jako wynik otrzymujemy tablicę z wynikami precyzji, wyniki są dla każdego podzialu danych (dla każdego k).  \n",
    "  \n",
    "W ***cross_val_score*** możemy stosować różne miary precyzji estymatora. Aby zastosować daną miarę precyzji należy użyć dodatkowy parametr ***scoring***. Domyślną miarą precyzji jest *accuracy*."
   ]
  },
  {
   "cell_type": "code",
   "execution_count": 17,
   "metadata": {},
   "outputs": [],
   "source": [
    "from sklearn.model_selection import cross_val_score"
   ]
  },
  {
   "cell_type": "code",
   "execution_count": 18,
   "metadata": {},
   "outputs": [],
   "source": [
    "X, y = shuffle(data_cancer_x, data_cancer_y)\n",
    "x_train, x_test, y_train, y_test = train_test_split(X, y, test_size=0.1)\n",
    "y_train = y_train.reshape((y_train.shape[0],))\n",
    "clf = SVC(kernel='linear')\n",
    "clf.fit(x_train, y_train)\n",
    "y_pred = clf.predict(x_test)"
   ]
  },
  {
   "cell_type": "markdown",
   "metadata": {},
   "source": [
    "Dla przykładu, wyznaczamy wartości *accuracy* dopasowanego modelu w 5-krotnej cross-walidacji."
   ]
  },
  {
   "cell_type": "code",
   "execution_count": 26,
   "metadata": {},
   "outputs": [
    {
     "data": {
      "text/plain": [
       "array([0.96116505, 0.9223301 , 0.99019608, 0.94117647, 0.96078431])"
      ]
     },
     "execution_count": 26,
     "metadata": {},
     "output_type": "execute_result"
    }
   ],
   "source": [
    "accuracy = cross_val_score(clf, x_train, y_train, cv=5)\n",
    "accuracy"
   ]
  },
  {
   "cell_type": "markdown",
   "metadata": {},
   "source": [
    "### Accuracy"
   ]
  },
  {
   "cell_type": "markdown",
   "metadata": {},
   "source": [
    "**Accuracy** - jest to najprostszy wynik jakości klasyfikacji\n",
    "  \n",
    "$accuracy = \\frac{M}{N},$\n",
    "  \n",
    "Gdzie:  \n",
    "M - ilość dobrze sklasyfikowanych próbek  \n",
    "N - ilość wszystkich próbek  "
   ]
  },
  {
   "cell_type": "markdown",
   "metadata": {},
   "source": [
    "Przykład:"
   ]
  },
  {
   "cell_type": "code",
   "execution_count": 34,
   "metadata": {},
   "outputs": [
    {
     "name": "stdout",
     "output_type": "stream",
     "text": [
      "Accuracy score: 0.93\n"
     ]
    }
   ],
   "source": [
    "from sklearn.metrics import accuracy_score\n",
    "accuracy = accuracy_score(y_test,y_pred)\n",
    "print('Accuracy score: {0:0.2f}'.format(accuracy)) "
   ]
  },
  {
   "cell_type": "markdown",
   "metadata": {},
   "source": [
    "## Loss"
   ]
  },
  {
   "cell_type": "markdown",
   "metadata": {},
   "source": [
    "Log loss nazywane równie regresją logarytmiczną lub cross-entropy loss, jest zdefiniowania na podstawie oszacowań prawdopodobieństwa. Jest powszechnie używana w sieciach neuronowych, może być używana do oceny wyników prawdopodobieństwa (predict_proba) klasyfikatora zamiast jego prognoz.\n",
    "\n",
    "W przypadku klasyfikacji binarnej z prawdziwą etykietą $ y \\in {0,1} $ i oszacowaniem prawdopodobieństwa $ p = \\operatorname{Pr} (y = 1) $, wówczas log loss:\n",
    "\n",
    "$L_{\\log}(y, p) = -\\log \\operatorname{Pr}(y|p) = -(y \\log (p) + (1 - y) \\log (1 - p))$\n",
    "\n",
    "W przypadku wieloklasowym:\n",
    "Niech prawdziwe etykiety danych będą zakodowane jako macierz binarna 1-of-K $ Y $, tj. $ y_{i, k} = 1 $, jeśli próbka $i$ ma etykietę $k$ pobraną z zestawu etykiet $K$. Niech $P$ będzie macierzą oszacowań prawdopodobieństwa, przy czym $ p_{i, k} = \\operatorname {Pr} (t_ {i, k} = 1) $. Wówczas log loss: \n",
    "\n",
    "$L_{\\log}(Y, P) = -\\log \\operatorname{Pr}(Y|P) = - \\frac{1}{N} \\sum_{i=0}^{N-1} \\sum_{k=0}^{K-1} y_{i,k} \\log p_{i,k}$\n",
    "\n",
    "\n",
    "Aby zobaczyć, w jaki sposób uogólnia to binary log loss podaną powyżej, zauważ, że w przypadku binarnym $p_{i,0} = 1 - p_{i,1}$  and $y_{i,0} = 1 - y_{i,1}$, więc powiększenie wewnętrznej sumy o $y_{i,k} \\in \\{0,1\\}$ powoduje binary log loss.\n",
    "\n",
    "Funkcja *log_loss* oblicza log loss, biorąc pod uwagę listę ground-truth labels i macierz prawdopodobieństwa, zwrócone przez metodę prognostyczną estymatora.\n"
   ]
  },
  {
   "cell_type": "markdown",
   "metadata": {},
   "source": [
    "Prościej mówiąc:  \n",
    "Log loss mierzy wydajność klasyfikatora, w którym dane wejściowe są wartością prawdopodobieństwa między 0 a 1. Celem modeli jest zminimalizowanie tej wartości. Idealny model miałby log loss równy 0. Log loss wzrasta, gdy przewidywane prawdopodobieństwo odbiega od rzeczywistej etykiety. Zatem przewidywanie prawdopodobieństwa 0.012, gdy rzeczywista etykieta obserwacji wynosi 1, byłoby złe i spowodowałoby wysoki log loss. \n"
   ]
  },
  {
   "cell_type": "code",
   "execution_count": 49,
   "metadata": {
    "scrolled": true
   },
   "outputs": [
    {
     "name": "stdout",
     "output_type": "stream",
     "text": [
      "Loss score: 2.42\n"
     ]
    }
   ],
   "source": [
    "from sklearn.metrics import log_loss\n",
    "loss = log_loss(y_test,y_pred)\n",
    "print('Loss score: {0:0.2f}'.format(loss)) "
   ]
  },
  {
   "cell_type": "markdown",
   "metadata": {},
   "source": [
    "## Precision/recall"
   ]
  },
  {
   "cell_type": "markdown",
   "metadata": {},
   "source": [
    "Niedoskonałością miary jakości *accuracy* są niezrównoważone klasy. Jeśli jedna z klas stanowi zdecydowaną więkoszość np. 90% wszystkich przypadków, to estymator który zawsze będzie zwracał tą klasę osiągnie dokładność 0.90. \n",
    "\n",
    "Rozwiązaniem problemu jest miara *precision* i *recall*:  \n",
    "\n",
    "$precision = \\frac{\\#TP}{\\#TP + \\#FP},$\n",
    "\n",
    "$recall = \\frac{\\#TP}{\\#TP + \\#FN},$\n",
    "\n",
    "gdzie:\n",
    " - TP - *true positives* (klasy które zostały dobrze sklasyfikowane)\n",
    " - FP - *false positives* (klasy 0 sklasyfikowane jako 1)\n",
    " - FN - *false negatives* (klasy 1 sklasyfikowane jako 0)\n"
   ]
  },
  {
   "cell_type": "code",
   "execution_count": 36,
   "metadata": {},
   "outputs": [
    {
     "name": "stdout",
     "output_type": "stream",
     "text": [
      "Precision-recall score: 0.89\n"
     ]
    }
   ],
   "source": [
    "from sklearn.metrics import average_precision_score\n",
    "average_precision = average_precision_score(y_test, y_pred)\n",
    "print('Precision-recall score: {0:0.2f}'.format(average_precision))"
   ]
  },
  {
   "cell_type": "markdown",
   "metadata": {},
   "source": [
    "## F1"
   ]
  },
  {
   "cell_type": "markdown",
   "metadata": {},
   "source": [
    "F1 jest przydatne gdy chcemy zbalansować różnice pomiędzy Precision and Recall. Można to interpretować jako śrenią ważoną precision and recall, gdzie wynik F1 osiąga najlepszą wartośc przy 1 a najgorszą przy 0. Względny wkład w wynik F1 dla precision oraz recall jest równy:  \n",
    "  \n",
    "$F1 = \\frac{2}{\\frac{1}{precision} + \\frac{1}{recall}}$\n",
    "\n",
    "Podsumowując F1 służy do zbalansowania Precision and Recall."
   ]
  },
  {
   "cell_type": "code",
   "execution_count": 37,
   "metadata": {},
   "outputs": [
    {
     "name": "stdout",
     "output_type": "stream",
     "text": [
      "F1 score: 0.89\n"
     ]
    }
   ],
   "source": [
    "from sklearn.metrics import f1_score\n",
    "f1 = f1_score(y_test,y_pred)\n",
    "print('F1 score: {0:0.2f}'.format(average_precision))"
   ]
  },
  {
   "cell_type": "markdown",
   "metadata": {},
   "source": [
    "## Krzywa Precision/Recall"
   ]
  },
  {
   "cell_type": "markdown",
   "metadata": {},
   "source": [
    "Krzywą precision-recall wykreślamy dla danej klasy. Podobnie jak liczymy precision i recall dla klasy. Domyślnie w większości bibliotek rysowana jest dla klasy pozytywnej. Na osi X odkładamy policzone wartości recall a na osi Y precision.  "
   ]
  },
  {
   "cell_type": "markdown",
   "metadata": {},
   "source": [
    "### Interpretacja krzywej precision-recall"
   ]
  },
  {
   "cell_type": "markdown",
   "metadata": {},
   "source": [
    "Zacznijmy od przypadku najgorszego. Niech nasz klasyfikator działa losowo. Gdy stosunek klas pozytywnej do negatywnej wynosi 1:1 to wykres będzie przebiegał mniej więcej na wysokości 0.5 (50% szans trafienia poprawnej klasy).  \n",
    "  \n",
    "W przypaku idealnym precision dla różnych wartości recall powinno wynosić 1. Zwiększając kolejno próg będziemy otrzymywać poprawne rozpoznanie, jedyne co będzie się zmieniać to recall, będzie się ono zmniejszać"
   ]
  },
  {
   "cell_type": "markdown",
   "metadata": {},
   "source": [
    "### Tworzenie krzywej precision-recall"
   ]
  },
  {
   "cell_type": "code",
   "execution_count": 38,
   "metadata": {},
   "outputs": [
    {
     "data": {
      "text/plain": [
       "Text(0.5, 1.0, '2-class Precision-Recall curve: AP=0.89')"
      ]
     },
     "execution_count": 38,
     "metadata": {},
     "output_type": "execute_result"
    },
    {
     "data": {
      "image/png": "[encoded data removed]",
      "text/plain": [
       "<Figure size 432x288 with 1 Axes>"
      ]
     },
     "metadata": {
      "needs_background": "light"
     },
     "output_type": "display_data"
    }
   ],
   "source": [
    "from sklearn.metrics import precision_recall_curve\n",
    "from sklearn.metrics import plot_precision_recall_curve\n",
    "import matplotlib.pyplot as plt\n",
    "\n",
    "disp = plot_precision_recall_curve(clf, x_test, y_test)\n",
    "disp.ax_.set_title('2-class Precision-Recall curve: '\n",
    "                   'AP={0:0.2f}'.format(average_precision))"
   ]
  },
  {
   "cell_type": "markdown",
   "metadata": {},
   "source": [
    "## Krzywa ROC"
   ]
  },
  {
   "cell_type": "markdown",
   "metadata": {},
   "source": [
    "Krzywa ROC jest to kolejny ze sposobów wizualizacji jakości klasyfikacji, pokazujący zależności wskaźników TPR (True Positive Rate) oraz FPR (False Positive Rate)."
   ]
  },
  {
   "cell_type": "markdown",
   "metadata": {},
   "source": [
    "### Interpretacja krzywej ROC"
   ]
  },
  {
   "cell_type": "markdown",
   "metadata": {},
   "source": [
    "Jakość klasyfikacji za pomocą krzywej ROC można ocenić wyliczając takie wskaźniki jak:\n",
    "\n",
    "* **Pole pod krzywą (AUC)**\n",
    "\n",
    "Im większe AUC tym lepiej: \n",
    "* AUC = 1 (klasyfikator idealny), \n",
    "* AUC = 0.5 (klasyfikator losowy), \n",
    "* AUC < 0.5 (nieprawidłowy klasyfikator (gorszy niż losowy)).\n",
    "  \n",
    "Upraszczając: \n",
    "Im wykres bardziej ”wypukły”, tym lepszy klasyfikator. "
   ]
  },
  {
   "cell_type": "markdown",
   "metadata": {},
   "source": [
    "### Tworzenie krzywej ROC"
   ]
  },
  {
   "cell_type": "code",
   "execution_count": 50,
   "metadata": {},
   "outputs": [
    {
     "data": {
      "image/png": "[encoded data removed]",
      "text/plain": [
       "<Figure size 432x288 with 1 Axes>"
      ]
     },
     "metadata": {
      "needs_background": "light"
     },
     "output_type": "display_data"
    }
   ],
   "source": [
    "from sklearn.model_selection import StratifiedKFold\n",
    "from sklearn.metrics import auc\n",
    "from sklearn.metrics import plot_roc_curve\n",
    "from numpy import interp\n",
    "\n",
    "tprs = []\n",
    "aucs = []\n",
    "mean_fpr = np.linspace(0, 1, 100)\n",
    "\n",
    "fig, ax = plt.subplots()\n",
    "\n",
    "viz = plot_roc_curve(clf, x_test, y_test,\n",
    "                         name='ROC',\n",
    "                         alpha=0.3, lw=1, ax=ax)\n",
    "\n",
    "interp_tpr = interp(mean_fpr, viz.fpr, viz.tpr)\n",
    "interp_tpr[0] = 0.0\n",
    "tprs.append(interp_tpr)\n",
    "aucs.append(viz.roc_auc)\n",
    "\n",
    "ax.plot([0, 1], [0, 1], linestyle='--', lw=2, color='r',\n",
    "        label='Chance', alpha=.8)\n",
    "\n",
    "mean_tpr = np.mean(tprs, axis=0)\n",
    "mean_tpr[-1] = 1.0\n",
    "mean_auc = auc(mean_fpr, mean_tpr)\n",
    "std_auc = np.std(aucs)\n",
    "ax.plot(mean_fpr, mean_tpr, color='b',\n",
    "        label=r'Mean ROC (AUC = %0.2f $\\pm$ %0.2f)' % (mean_auc, std_auc),\n",
    "        lw=2, alpha=.8)\n",
    "\n",
    "std_tpr = np.std(tprs, axis=0)\n",
    "tprs_upper = np.minimum(mean_tpr + std_tpr, 1)\n",
    "tprs_lower = np.maximum(mean_tpr - std_tpr, 0)\n",
    "ax.fill_between(mean_fpr, tprs_lower, tprs_upper, color='grey', alpha=.2,\n",
    "                label=r'$\\pm$ 1 std. dev.')\n",
    "\n",
    "ax.set(xlim=[-0.05, 1.05], ylim=[-0.05, 1.05],\n",
    "       title=\"ROC\")\n",
    "ax.legend(loc=\"lower right\")\n",
    "plt.show()"
   ]
  },
  {
   "cell_type": "markdown",
   "metadata": {},
   "source": [
    "# Zadania"
   ]
  },
  {
   "cell_type": "markdown",
   "metadata": {},
   "source": [
    "a) Na zbiorach MNIST, FMNIST, TNG (twenty news groups) zaprezentować działanie\n",
    "klasyfikatora SVM i wyniki porównać do klasyfikatora k-NN przy pomocy poznanych miar\n",
    "walidacji klasyfikacji. (dla najlepszej konfiguracji, stałej uczenia, funkcji kernela)\n",
    "\n",
    "b) Zaproponować, taką augmentację zbiorów treningowych (wielkość zbioru zależna od\n",
    "mocy obliczeniowej którą Państwo dysponują) aby uzyskać jak najlepsze miary jakości na\n",
    "zbiorach testowych."
   ]
  }
 ],
 "metadata": {
  "@webio": {
   "lastCommId": null,
   "lastKernelId": null
  },
  "kernelspec": {
   "display_name": "Python 3",
   "language": "python",
   "name": "python3"
  },
  "language_info": {
   "codemirror_mode": {
    "name": "ipython",
    "version": 3
   },
   "file_extension": ".py",
   "mimetype": "text/x-python",
   "name": "python",
   "nbconvert_exporter": "python",
   "pygments_lexer": "ipython3",
   "version": "3.7.3"
  }
 },
 "nbformat": 4,
 "nbformat_minor": 2
}
