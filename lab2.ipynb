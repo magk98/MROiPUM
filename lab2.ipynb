{
 "cells": [
  {
   "cell_type": "markdown",
   "metadata": {},
   "source": [
    "### PODPUNKT A"
   ]
  },
  {
   "cell_type": "code",
   "execution_count": 2,
   "metadata": {},
   "outputs": [],
   "source": [
    "import tensorflow as tf\n",
    "from sklearn.model_selection import train_test_split\n",
    "from sklearn.utils import resample\n",
    "from sklearn import preprocessing\n",
    "from sklearn.ensemble import ExtraTreesClassifier\n",
    "import matplotlib.pyplot as plt\n",
    "from sklearn.feature_selection import SelectKBest,chi2\n",
    "import pandas as pd\n",
    "import numpy as np\n",
    "\n",
    "\n",
    "(x_mnist, y_mnist), (x_test, y_test) = tf.keras.datasets.mnist.load_data()\n",
    "\n",
    "n_features = x_mnist.shape[1] * x_mnist.shape[2]\n",
    "n_samples = 2 * n_features\n",
    "\n",
    "\n",
    "x_sub, y_sub = resample(x_mnist, y_mnist, n_samples=n_samples, replace=False, random_state=0)\n",
    "x_sub = x_sub.reshape(-1, n_features)\n"
   ]
  },
  {
   "cell_type": "code",
   "execution_count": 3,
   "metadata": {},
   "outputs": [
    {
     "name": "stdout",
     "output_type": "stream",
     "text": [
      "Fitting estimator with 784 features.\n",
      "Fitting estimator with 734 features.\n",
      "Fitting estimator with 684 features.\n"
     ]
    },
    {
     "name": "stderr",
     "output_type": "stream",
     "text": [
      "C:\\Users\\magk9\\AppData\\Roaming\\Python\\Python37\\site-packages\\sklearn\\ensemble\\forest.py:245: FutureWarning: The default value of n_estimators will change from 10 in version 0.20 to 100 in 0.22.\n",
      "  \"10 in version 0.20 to 100 in 0.22.\", FutureWarning)\n",
      "C:\\Users\\magk9\\AppData\\Roaming\\Python\\Python37\\site-packages\\sklearn\\ensemble\\forest.py:245: FutureWarning: The default value of n_estimators will change from 10 in version 0.20 to 100 in 0.22.\n",
      "  \"10 in version 0.20 to 100 in 0.22.\", FutureWarning)\n",
      "C:\\Users\\magk9\\AppData\\Roaming\\Python\\Python37\\site-packages\\sklearn\\ensemble\\forest.py:245: FutureWarning: The default value of n_estimators will change from 10 in version 0.20 to 100 in 0.22.\n",
      "  \"10 in version 0.20 to 100 in 0.22.\", FutureWarning)\n"
     ]
    },
    {
     "name": "stdout",
     "output_type": "stream",
     "text": [
      "Fitting estimator with 634 features.\n",
      "Fitting estimator with 584 features.\n",
      "Fitting estimator with 534 features.\n",
      "Fitting estimator with 484 features.\n"
     ]
    },
    {
     "name": "stderr",
     "output_type": "stream",
     "text": [
      "C:\\Users\\magk9\\AppData\\Roaming\\Python\\Python37\\site-packages\\sklearn\\ensemble\\forest.py:245: FutureWarning: The default value of n_estimators will change from 10 in version 0.20 to 100 in 0.22.\n",
      "  \"10 in version 0.20 to 100 in 0.22.\", FutureWarning)\n",
      "C:\\Users\\magk9\\AppData\\Roaming\\Python\\Python37\\site-packages\\sklearn\\ensemble\\forest.py:245: FutureWarning: The default value of n_estimators will change from 10 in version 0.20 to 100 in 0.22.\n",
      "  \"10 in version 0.20 to 100 in 0.22.\", FutureWarning)\n",
      "C:\\Users\\magk9\\AppData\\Roaming\\Python\\Python37\\site-packages\\sklearn\\ensemble\\forest.py:245: FutureWarning: The default value of n_estimators will change from 10 in version 0.20 to 100 in 0.22.\n",
      "  \"10 in version 0.20 to 100 in 0.22.\", FutureWarning)\n",
      "C:\\Users\\magk9\\AppData\\Roaming\\Python\\Python37\\site-packages\\sklearn\\ensemble\\forest.py:245: FutureWarning: The default value of n_estimators will change from 10 in version 0.20 to 100 in 0.22.\n",
      "  \"10 in version 0.20 to 100 in 0.22.\", FutureWarning)\n"
     ]
    },
    {
     "name": "stdout",
     "output_type": "stream",
     "text": [
      "Fitting estimator with 434 features.\n"
     ]
    },
    {
     "name": "stderr",
     "output_type": "stream",
     "text": [
      "C:\\Users\\magk9\\AppData\\Roaming\\Python\\Python37\\site-packages\\sklearn\\ensemble\\forest.py:245: FutureWarning: The default value of n_estimators will change from 10 in version 0.20 to 100 in 0.22.\n",
      "  \"10 in version 0.20 to 100 in 0.22.\", FutureWarning)\n",
      "C:\\Users\\magk9\\AppData\\Roaming\\Python\\Python37\\site-packages\\sklearn\\ensemble\\forest.py:245: FutureWarning: The default value of n_estimators will change from 10 in version 0.20 to 100 in 0.22.\n",
      "  \"10 in version 0.20 to 100 in 0.22.\", FutureWarning)\n"
     ]
    }
   ],
   "source": [
    "n_best_features = 1*n_features//2\n",
    "N = 28\n",
    "from sklearn.feature_selection import RFE\n",
    "\n",
    "rfe_selector = RFE(estimator=ExtraTreesClassifier(), n_features_to_select=n_best_features, step=50, verbose=5)\n",
    "rfe_selector.fit(x_sub, y_sub)\n",
    "rfe_support = rfe_selector.get_support()\n",
    "rfe_support = rfe_support.reshape(N,N)\n"
   ]
  },
  {
   "cell_type": "code",
   "execution_count": 4,
   "metadata": {},
   "outputs": [
    {
     "data": {
      "text/plain": [
       "<matplotlib.image.AxesImage at 0x2639ad03448>"
      ]
     },
     "execution_count": 4,
     "metadata": {},
     "output_type": "execute_result"
    },
    {
     "data": {
      "image/png": "[encoded data removed]",
      "text/plain": [
       "<Figure size 432x288 with 1 Axes>"
      ]
     },
     "metadata": {
      "needs_background": "light"
     },
     "output_type": "display_data"
    }
   ],
   "source": [
    "import matplotlib.pyplot as plt\n",
    "plt.imshow(rfe_support,cmap='gray')"
   ]
  },
  {
   "cell_type": "markdown",
   "metadata": {},
   "source": [
    "### PODPUNKT B"
   ]
  },
  {
   "cell_type": "code",
   "execution_count": 5,
   "metadata": {},
   "outputs": [],
   "source": [
    "x_train, x_test, y_train, y_test = train_test_split(x_sub, y_sub, test_size=0.4, random_state=0)"
   ]
  },
  {
   "cell_type": "code",
   "execution_count": 6,
   "metadata": {},
   "outputs": [
    {
     "data": {
      "text/plain": [
       "0.8789808917197452"
      ]
     },
     "execution_count": 6,
     "metadata": {},
     "output_type": "execute_result"
    }
   ],
   "source": [
    "from sklearn.neighbors import KNeighborsClassifier\n",
    "from sklearn.metrics import accuracy_score\n",
    "\n",
    "model = KNeighborsClassifier(n_neighbors=5, algorithm='auto')\n",
    "model.fit(x_train, y_train)\n",
    "\n",
    "y_pred = model.predict(x_test)\n",
    "all_score = accuracy_score(y_true = y_test, y_pred = y_pred)\n",
    "all_score"
   ]
  },
  {
   "cell_type": "code",
   "execution_count": 7,
   "metadata": {},
   "outputs": [
    {
     "data": {
      "text/plain": [
       "(940, 784)"
      ]
     },
     "execution_count": 7,
     "metadata": {},
     "output_type": "execute_result"
    }
   ],
   "source": [
    "x_train.shape"
   ]
  },
  {
   "cell_type": "code",
   "execution_count": 8,
   "metadata": {},
   "outputs": [
    {
     "data": {
      "text/plain": [
       "0.8837579617834395"
      ]
     },
     "execution_count": 8,
     "metadata": {},
     "output_type": "execute_result"
    }
   ],
   "source": [
    "x_train_better = x_train[:,rfe_support.reshape(-1)]\n",
    "x_test_better = x_test[:,rfe_support.reshape(-1)]\n",
    "\n",
    "model = KNeighborsClassifier(n_neighbors=5, algorithm='auto')\n",
    "model.fit(x_train_better, y_train)\n",
    "\n",
    "y_pred = model.predict(x_test_better)\n",
    "better_score = accuracy_score(y_true = y_test, y_pred = y_pred)\n",
    "better_score"
   ]
  },
  {
   "cell_type": "markdown",
   "metadata": {},
   "source": [
    "### PODPUNKT C"
   ]
  },
  {
   "cell_type": "code",
   "execution_count": 9,
   "metadata": {},
   "outputs": [
    {
     "name": "stdout",
     "output_type": "stream",
     "text": [
      "before PCA: (940, 784) vs after PCA: (940, 784)\n"
     ]
    }
   ],
   "source": [
    "indexes = [(x, y) for x in range(0, 28) for y in range(0, 28)]\n",
    "df = pd.DataFrame(x_train,columns=indexes)\n",
    "\n",
    "from sklearn.preprocessing import StandardScaler\n",
    "from sklearn.decomposition import PCA\n",
    "scaler = StandardScaler()\n",
    "scaler.fit(df)\n",
    "scaled_data = scaler.transform(df) # scaling data\n",
    "pca = PCA(n_components=x_train.shape[1])  # instantiate a PCA object\n",
    "pca.fit(scaled_data)  # find the principal components\n",
    "x_pca = pca.transform(scaled_data)\n",
    "print(\"before PCA: {} vs after PCA: {}\".format(scaled_data.shape, x_pca.shape))"
   ]
  },
  {
   "cell_type": "code",
   "execution_count": 11,
   "metadata": {},
   "outputs": [
    {
     "data": {
      "text/plain": [
       "<matplotlib.image.AxesImage at 0x2639a714fc8>"
      ]
     },
     "execution_count": 11,
     "metadata": {},
     "output_type": "execute_result"
    },
    {
     "data": {
      "image/png": "[encoded data removed]",
      "text/plain": [
       "<Figure size 432x288 with 1 Axes>"
      ]
     },
     "metadata": {
      "needs_background": "light"
     },
     "output_type": "display_data"
    }
   ],
   "source": [
    "plt.imshow(x_pca[1].reshape(28,28),cmap='gray')"
   ]
  },
  {
   "cell_type": "code",
   "execution_count": 12,
   "metadata": {},
   "outputs": [
    {
     "data": {
      "text/plain": [
       "<matplotlib.collections.PathCollection at 0x2639a8bc248>"
      ]
     },
     "execution_count": 12,
     "metadata": {},
     "output_type": "execute_result"
    },
    {
     "data": {
      "image/png": "[encoded data removed]",
      "text/plain": [
       "<Figure size 576x432 with 1 Axes>"
      ]
     },
     "metadata": {
      "needs_background": "light"
     },
     "output_type": "display_data"
    }
   ],
   "source": [
    "plt.figure(figsize=(8,6))\n",
    "plt.scatter(x_pca[:,0],x_pca[:,1],c=y_train,cmap='rainbow')"
   ]
  },
  {
   "cell_type": "code",
   "execution_count": 13,
   "metadata": {},
   "outputs": [
    {
     "name": "stdout",
     "output_type": "stream",
     "text": [
      "1;0.888535\n",
      "3;0.904459\n",
      "5;0.899682\n"
     ]
    }
   ],
   "source": [
    "for i in range(0, 1):\n",
    "    scaler = preprocessing.Normalizer().fit(x_train)\n",
    "    loc_x_best_train_scaled = scaler.transform(x_train)\n",
    "    loc_x_best_test_scaled = scaler.transform(x_test)\n",
    "    \n",
    "    pca.fit(loc_x_best_train_scaled)\n",
    "    pca_x_train_best = pca.transform(loc_x_best_train_scaled)\n",
    "    pca_x_test_best = pca.transform(loc_x_best_test_scaled)\n",
    "    for k_neigh in [1, 3, 5]:\n",
    "        neigh = KNeighborsClassifier(n_neighbors=k_neigh, algorithm='auto').fit(pca_x_train_best, y_train)\n",
    "        y_pred = neigh.predict(pca_x_test_best)\n",
    "        score = accuracy_score(y_true = y_test, y_pred = y_pred)\n",
    "        print('%d;%f' % (k_neigh, score))"
   ]
  },
  {
   "cell_type": "markdown",
   "metadata": {},
   "source": [
    "### PODPUNKT D"
   ]
  },
  {
   "cell_type": "code",
   "execution_count": 34,
   "metadata": {},
   "outputs": [
    {
     "name": "stderr",
     "output_type": "stream",
     "text": [
      "C:\\Users\\magk9\\AppData\\Roaming\\Python\\Python37\\site-packages\\sklearn\\ensemble\\forest.py:245: FutureWarning: The default value of n_estimators will change from 10 in version 0.20 to 100 in 0.22.\n",
      "  \"10 in version 0.20 to 100 in 0.22.\", FutureWarning)\n"
     ]
    },
    {
     "data": {
      "text/plain": [
       "0.9028662420382165"
      ]
     },
     "execution_count": 34,
     "metadata": {},
     "output_type": "execute_result"
    }
   ],
   "source": [
    "model_pca = ExtraTreesClassifier()\n",
    "model_pca.fit(pca_x_train, y_train)\n",
    "\n",
    "# selekcja najistotniejszych cech\n",
    "\n",
    "feat_importances_mnist = pd.Series(model_pca.feature_importances_)\n",
    "\n",
    "# zapisanie listy najgorszych cech\n",
    "\n",
    "worst_mnist_features = feat_importances_mnist.nsmallest(500).index.values\n",
    "\n",
    "pca_x_train_sub = np.delete(pca_x_train, worst_mnist_features, 1)\n",
    "pca_x_test_sub = np.delete(pca_x_test, worst_mnist_features, 1)\n",
    "model = KNeighborsClassifier(n_neighbors=5, algorithm='auto')\n",
    "model.fit(pca_x_train_sub, y_train)\n",
    "\n",
    "y_pred = model.predict(pca_x_test_sub)\n",
    "score = accuracy_score(y_true = y_test, y_pred = y_pred)\n",
    "score"
   ]
  },
  {
   "cell_type": "markdown",
   "metadata": {},
   "source": [
    "### PODPUNKT E"
   ]
  },
  {
   "cell_type": "code",
   "execution_count": 58,
   "metadata": {},
   "outputs": [
    {
     "data": {
      "text/plain": [
       "0.8757961783439491"
      ]
     },
     "execution_count": 58,
     "metadata": {},
     "output_type": "execute_result"
    }
   ],
   "source": [
    "# zapisanie listy najlepszych cech\n",
    "best_mnist_features = feat_importances_mnist.nlargest(15).index.values\n",
    "\n",
    "pca_x_train_sub = np.take(pca_x_train, best_mnist_features, 1)\n",
    "pca_x_test_sub = np.take(pca_x_test, best_mnist_features, 1)\n",
    "model = KNeighborsClassifier(n_neighbors=5, algorithm='auto')\n",
    "model.fit(pca_x_train_sub, y_train)\n",
    "\n",
    "y_pred = model.predict(pca_x_test_sub)\n",
    "score = accuracy_score(y_true = y_test, y_pred = y_pred)\n",
    "score"
   ]
  },
  {
   "cell_type": "markdown",
   "metadata": {},
   "source": [
    "### PODPUNKT G"
   ]
  },
  {
   "cell_type": "code",
   "execution_count": 71,
   "metadata": {},
   "outputs": [],
   "source": [
    "import imgaug as ia\n",
    "import imgaug.augmenters as iaa\n",
    "\n",
    "def augment(images):\n",
    "    seq = iaa.Sequential(\n",
    "        [\n",
    "            iaa.Crop(px=(1, 10), keep_size=True),\n",
    "            iaa.Sometimes(0.5, iaa.Affine(\n",
    "                rotate=(-20, 20),\n",
    "                mode=ia.ALL\n",
    "            )),\n",
    "            iaa.SomeOf((1, 2),\n",
    "                [\n",
    "                    iaa.GaussianBlur((0, 0.5)),\n",
    "                    iaa.SaltAndPepper(0.07),\n",
    "                ],\n",
    "                random_order=True\n",
    "            )\n",
    "        ]\n",
    "    )\n",
    "    imagesX = images[:, :, :, np.newaxis]\n",
    "    images_aug = seq(images=imagesX)\n",
    "    return [np.squeeze(img) for img in images_aug]\n",
    "\n",
    "from sklearn.utils import shuffle\n",
    "x_train = x_train.reshape((x_train.shape[0], 28, 28))\n",
    "x_train_a = augment(x_train)\n",
    "y_train_a = y_train\n",
    "\n",
    "x_train_aug = np.concatenate([x_train, x_train_a])\n",
    "y_train_aug = np.concatenate([y_train, y_train_a])\n",
    "\n",
    "x_train_aug, y_train_aug = shuffle(x_train_aug, y_train_aug)\n",
    "x_train_aug = x_train_aug.reshape((x_train_aug.shape[0], -1))"
   ]
  },
  {
   "cell_type": "code",
   "execution_count": 77,
   "metadata": {},
   "outputs": [
    {
     "data": {
      "text/plain": [
       "0.8996815286624203"
      ]
     },
     "execution_count": 77,
     "metadata": {},
     "output_type": "execute_result"
    }
   ],
   "source": [
    "pca = PCA(n_components=784)\n",
    "pca.fit(x_train_aug)\n",
    "pca_x_train_aug = pca.transform(x_train_aug)\n",
    "pca_x_test = pca.transform(x_test)\n",
    "\n",
    "neigh_pca = KNeighborsClassifier(n_neighbors=5, algorithm='auto').fit(pca_x_train_aug, y_train_aug)\n",
    "y_pred_pca = neigh_pca.predict(pca_x_test)\n",
    "\n",
    "pca_score = accuracy_score(y_true = y_test, y_pred = y_pred_pca)\n",
    "pca_score"
   ]
  },
  {
   "cell_type": "code",
   "execution_count": 76,
   "metadata": {},
   "outputs": [
    {
     "name": "stderr",
     "output_type": "stream",
     "text": [
      "C:\\Users\\magk9\\AppData\\Roaming\\Python\\Python37\\site-packages\\sklearn\\ensemble\\forest.py:245: FutureWarning: The default value of n_estimators will change from 10 in version 0.20 to 100 in 0.22.\n",
      "  \"10 in version 0.20 to 100 in 0.22.\", FutureWarning)\n"
     ]
    },
    {
     "data": {
      "text/plain": [
       "0.7754777070063694"
      ]
     },
     "execution_count": 76,
     "metadata": {},
     "output_type": "execute_result"
    }
   ],
   "source": [
    "model_pca = ExtraTreesClassifier()\n",
    "model_pca.fit(pca_x_train_aug, y_train_aug)\n",
    "\n",
    "# selekcja najistotniejszych cech\n",
    "feat_importances_mnist = pd.Series(model_pca.feature_importances_)\n",
    "\n",
    "# zapisanie listy najlepszych cech\n",
    "best_mnist_features = feat_importances_mnist.nlargest(15).index.values\n",
    "\n",
    "pca_x_train_aug_sub = np.take(pca_x_train_aug, best_mnist_features, 1)\n",
    "pca_x_test_sub = np.take(pca_x_test, best_mnist_features, 1)\n",
    "model = KNeighborsClassifier(n_neighbors=5, algorithm='auto')\n",
    "model.fit(pca_x_train_aug_sub, y_train_aug)\n",
    "\n",
    "y_pred = model.predict(pca_x_test_sub)\n",
    "pca_m_score = accuracy_score(y_true = y_test, y_pred = y_pred)\n",
    "pca_m_score"
   ]
  },
  {
   "cell_type": "code",
   "execution_count": 78,
   "metadata": {},
   "outputs": [
    {
     "data": {
      "text/plain": [
       "0.8996815286624203"
      ]
     },
     "execution_count": 78,
     "metadata": {},
     "output_type": "execute_result"
    }
   ],
   "source": [
    "### Bez PCA\n",
    "model = KNeighborsClassifier(n_neighbors=5, algorithm='auto')\n",
    "model.fit(x_train_aug, y_train_aug)\n",
    "\n",
    "y_pred = model.predict(x_test)\n",
    "no_pca_score = accuracy_score(y_true = y_test, y_pred = y_pred)\n",
    "no_pca_score"
   ]
  },
  {
   "cell_type": "code",
   "execution_count": 79,
   "metadata": {},
   "outputs": [
    {
     "name": "stderr",
     "output_type": "stream",
     "text": [
      "C:\\Users\\magk9\\AppData\\Roaming\\Python\\Python37\\site-packages\\sklearn\\ensemble\\forest.py:245: FutureWarning: The default value of n_estimators will change from 10 in version 0.20 to 100 in 0.22.\n",
      "  \"10 in version 0.20 to 100 in 0.22.\", FutureWarning)\n"
     ]
    },
    {
     "data": {
      "text/plain": [
       "0.6353503184713376"
      ]
     },
     "execution_count": 79,
     "metadata": {},
     "output_type": "execute_result"
    }
   ],
   "source": [
    "model_aug = ExtraTreesClassifier()\n",
    "model_aug.fit(x_train_aug, y_train_aug)\n",
    "\n",
    "# selekcja najistotniejszych cech\n",
    "\n",
    "feat_importances_mnist = pd.Series(model_aug.feature_importances_)\n",
    "\n",
    "# zapisanie listy najlepszych cech\n",
    "\n",
    "best_mnist_features = feat_importances_mnist.nlargest(15).index.values\n",
    "\n",
    "x_train_aug_sub = np.take(x_train_aug, best_mnist_features, 1)\n",
    "x_test_sub = np.take(x_test, best_mnist_features, 1)\n",
    "model = KNeighborsClassifier(n_neighbors=5, algorithm='auto')\n",
    "model.fit(x_train_aug_sub, y_train_aug)\n",
    "\n",
    "y_pred = model.predict(x_test_sub)\n",
    "m_score = accuracy_score(y_true = y_test, y_pred = y_pred)\n",
    "m_score"
   ]
  },
  {
   "cell_type": "code",
   "execution_count": 81,
   "metadata": {},
   "outputs": [
    {
     "name": "stdout",
     "output_type": "stream",
     "text": [
      "PCA: 0.8996815286624203 vs no PCA: 0.8996815286624203\n"
     ]
    }
   ],
   "source": [
    "print(f\"PCA: {pca_score} vs no PCA: {no_pca_score}\")"
   ]
  },
  {
   "cell_type": "code",
   "execution_count": 82,
   "metadata": {},
   "outputs": [
    {
     "name": "stdout",
     "output_type": "stream",
     "text": [
      "PCA: 0.7754777070063694 vs no PCA: 0.6353503184713376\n"
     ]
    }
   ],
   "source": [
    "print(f\"PCA: {pca_m_score} vs no PCA: {m_score}\")"
   ]
  },
  {
   "cell_type": "code",
   "execution_count": null,
   "metadata": {},
   "outputs": [],
   "source": []
  }
 ],
 "metadata": {
  "kernelspec": {
   "display_name": "Python 3",
   "language": "python",
   "name": "python3"
  },
  "language_info": {
   "codemirror_mode": {
    "name": "ipython",
    "version": 3
   },
   "file_extension": ".py",
   "mimetype": "text/x-python",
   "name": "python",
   "nbconvert_exporter": "python",
   "pygments_lexer": "ipython3",
   "version": "3.7.6"
  }
 },
 "nbformat": 4,
 "nbformat_minor": 4
}
