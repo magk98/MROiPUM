{
 "cells": [
  {
   "cell_type": "markdown",
   "metadata": {},
   "source": [
    "# Projekt 4 Super k-NN"
   ]
  },
  {
   "cell_type": "markdown",
   "metadata": {},
   "source": [
    "Celem projektu jest stworzenie zupełnie nowego zespołowego klasyfikatora k-NN  i porównania jego jakości, czasów jego uczenia i odpowiedzi ze standardowym klasyfikatorem SVM. \n",
    "W nawiasie wymagania na ocenę maksymalną.\n",
    "\n",
    "DoD.\n",
    "Należy sporządzić raport z projektu."
   ]
  },
  {
   "cell_type": "markdown",
   "metadata": {},
   "source": [
    "1. Zbiór danych: TNG, ok 18000 próbek, 20 klas. Zbiór danych MNIST (70000 próbek 10 klas). Odnośnie TNG wykorzystujemy gotowe dane reprezentujące tekst blogów w postaci wektorów (dostarcza prowadzący). Dane dekorelujemy wykorzystując transformatę PCA."
   ]
  },
  {
   "cell_type": "markdown",
   "metadata": {},
   "source": [
    "2. Z jednego zbioru danych tworzymy kilka sub-zestawów danych (>=5 <=10) na różnych zestawach cech (maski mogą być losowane w sposób random, ale nie powinny być gęste). Maski mogą mieć różną długość. Prawdopodobieństwo wystąpienia cechy w zestawie może być proporcjonalne do jej istotności (np. mierzonej wielkością wartości własnych po transformacie PCA). Jednak nie może być takiej cechy, która nie dostała się do żadnego zestawu. "
   ]
  },
  {
   "cell_type": "markdown",
   "metadata": {},
   "source": [
    "3. Liczymy średnią przynależność każdej próbki do danej klasy na bazie klasyfikatora k-NN dla każdego sub-zestawu danych. Dokonujemy fuzji wyników klasyfikacji (jakiej?) dla każdej próbki po sub-zestawach danych. "
   ]
  },
  {
   "cell_type": "markdown",
   "metadata": {},
   "source": [
    "4. Jak zmieni się jakość klasyfikatora w zależności od k?"
   ]
  },
  {
   "cell_type": "markdown",
   "metadata": {},
   "source": [
    "5. Wyniki jakości klasyfikatorów oceniać na bazie krzyżowej-walidacji, (accuracy - Loss-błąd, Krzywa ROC, Precision-Recall, (pola pod krzywymi) F1). "
   ]
  },
  {
   "cell_type": "markdown",
   "metadata": {},
   "source": [
    "## Utils"
   ]
  },
  {
   "cell_type": "code",
   "execution_count": 41,
   "metadata": {},
   "outputs": [],
   "source": [
    "from sklearn.datasets import fetch_openml\n",
    "import random\n",
    "import numpy as np\n",
    "import matplotlib.pyplot as plt\n",
    "from sklearn.preprocessing import StandardScaler\n",
    "from sklearn.model_selection import train_test_split\n",
    "from sklearn.decomposition import PCA\n",
    "from sklearn.manifold import TSNE\n",
    "from sklearn.neighbors import KNeighborsClassifier\n",
    "import matplotlib.colors as mcolors"
   ]
  },
  {
   "cell_type": "code",
   "execution_count": 42,
   "metadata": {},
   "outputs": [],
   "source": [
    "from sklearn.ensemble import ExtraTreesClassifier\n",
    "\n",
    "rows_size = 0.6\n",
    "\n",
    "def divide_dataset(X: np.ndarray,\n",
    "                   y: np.ndarray,\n",
    "                   sub_num: int = 10,\n",
    "                   rows_size: float = 0.6,\n",
    "                   cols_size: float = 0.7):\n",
    "    # get feature importances\n",
    "    tree = ExtraTreesClassifier()\n",
    "    tree.fit(X, y)\n",
    "    feature_importances = tree.feature_importances_\n",
    "    feature_importances /= feature_importances.sum()\n",
    "\n",
    "    # prepare indices\n",
    "    row_indices = list(range(X.shape[0]))\n",
    "    col_indices = list(range(X.shape[1]))\n",
    "    num_rows = round(X.shape[0] * rows_size)\n",
    "    num_cols = round(X.shape[1] * cols_size)\n",
    "\n",
    "    used_cols = set()\n",
    "    subparts = []\n",
    "    col_masks = []\n",
    "    \n",
    "    for i in range(sub_num):\n",
    "        # randomly, uniformly sample rows\n",
    "        rows = np.random.choice(row_indices,\n",
    "                                size=num_rows,\n",
    "                                replace=True)\n",
    "\n",
    "        # randomly sample X columns with probability distribution relative to\n",
    "        # the features' importances\n",
    "        cols = np.random.choice(col_indices,\n",
    "                                size=num_cols,\n",
    "                                replace=False,\n",
    "                                p=feature_importances)\n",
    "        if i == sub_num - 1:\n",
    "            # force usage of columns not used before\n",
    "            used_cols |= set(cols)\n",
    "            not_used_cols = set(col_indices) - used_cols\n",
    "            not_used_cols = np.fromiter(not_used_cols,\n",
    "                                        int,\n",
    "                                        len(not_used_cols))\n",
    "            cols = np.sort(np.concatenate((cols, not_used_cols)))\n",
    "\n",
    "        \n",
    "        X_part = X[rows, :]\n",
    "        X_part = X_part[:, cols]\n",
    "        \n",
    "        y_part = y[rows]\n",
    "\n",
    "        used_cols |= set(cols)\n",
    "        subparts.append((X_part, y_part))\n",
    "        col_masks.append(cols)\n",
    "        \n",
    "    return subparts, col_masks"
   ]
  },
  {
   "cell_type": "code",
   "execution_count": 43,
   "metadata": {},
   "outputs": [],
   "source": [
    "from sklearn.metrics import accuracy_score, f1_score\n",
    "\n",
    "def get_classifiers(dataset, n_neighbors): #todo punkt 4\n",
    "    classifiers = []\n",
    "    for row in dataset:\n",
    "        x, y = row\n",
    "        neigh = KNeighborsClassifier(n_neighbors=n_neighbors)\n",
    "        neigh.fit(x, y)\n",
    "        classifiers.append(neigh)\n",
    "\n",
    "    return classifiers\n",
    "\n",
    "\n",
    "def super_k_nn(x, rows_size, divided_train_dataset, classes_count, n_neighbors=3):\n",
    "    \n",
    "    classifiers = get_classifiers(divided_train_dataset[0], n_neighbors)  \n",
    "    masks = divided_train_dataset[1]\n",
    "    result = []\n",
    "    \n",
    "    for row in x:\n",
    "        votes = [0] * classes_count\n",
    "        for i, c in enumerate(classifiers):\n",
    "            \n",
    "            # match shape to train set shape\n",
    "            temp_x = row[masks[i]] \n",
    "            \n",
    "            for prediction in c.predict([temp_x]):\n",
    "                votes[int(prediction)] += 1\n",
    "                   \n",
    "        result.append(str(np.argmax(votes))) \n",
    "\n",
    "    return result"
   ]
  },
  {
   "cell_type": "markdown",
   "metadata": {},
   "source": [
    "## MNIST"
   ]
  },
  {
   "cell_type": "code",
   "execution_count": 44,
   "metadata": {},
   "outputs": [],
   "source": [
    "mnist = fetch_openml(\"mnist_784\", data_home=\"data/mnist_784\", cache=True)"
   ]
  },
  {
   "cell_type": "code",
   "execution_count": 45,
   "metadata": {},
   "outputs": [],
   "source": [
    "zipped_mnist = list(zip(mnist.data, mnist.target))\n",
    "mnist_random = random.sample(zipped_mnist, 7000)\n",
    "x, y = zip(*(mnist_random))\n",
    "x = np.asarray(x)\n",
    "y = np.asarray(y)"
   ]
  },
  {
   "cell_type": "code",
   "execution_count": 46,
   "metadata": {},
   "outputs": [],
   "source": [
    "scaler = StandardScaler()\n",
    "x_scaled = scaler.fit_transform(x) \n",
    "\n",
    "pca = PCA(n_components=30)\n",
    "x_pca = pca.fit_transform(x_scaled)\n",
    "x_train, x_test, y_train, y_test = train_test_split(x_pca, y, train_size=0.2, test_size=0.02, random_state=1)"
   ]
  },
  {
   "cell_type": "code",
   "execution_count": 47,
   "metadata": {},
   "outputs": [
    {
     "data": {
      "text/plain": [
       "(0.85, 0.8459255372786286)"
      ]
     },
     "execution_count": 47,
     "metadata": {},
     "output_type": "execute_result"
    }
   ],
   "source": [
    "mnist_divided_dataset = divide_dataset(x_train, y_train, rows_size=rows_size)\n",
    "result = super_k_nn(x_test, rows_size, mnist_divided_dataset, 10)\n",
    "accuracy_score(y_true=y_test, y_pred=result), f1_score(y_true=y_test, y_pred=result, average='macro')"
   ]
  },
  {
   "cell_type": "code",
   "execution_count": 52,
   "metadata": {},
   "outputs": [
    {
     "data": {
      "text/plain": [
       "[(0.8428571428571429, 0.8310467069412419),\n",
       " (0.85, 0.8459255372786286),\n",
       " (0.8642857142857143, 0.8563689571298265),\n",
       " (0.8428571428571429, 0.8355143011690028),\n",
       " (0.8071428571428572, 0.7918472447739331)]"
      ]
     },
     "execution_count": 52,
     "metadata": {},
     "output_type": "execute_result"
    }
   ],
   "source": [
    "resultss = []\n",
    "for i in [1, 3, 5, 10, 20]:\n",
    "    result = super_k_nn(x_test, rows_size, mnist_divided_dataset, 10, i)\n",
    "    resultss.append((accuracy_score(y_true=y_test, y_pred=result), f1_score(y_true=y_test, y_pred=result, average='macro')))\n",
    "    \n",
    "resultss"
   ]
  },
  {
   "cell_type": "markdown",
   "metadata": {},
   "source": [
    "### vs SVM"
   ]
  },
  {
   "cell_type": "code",
   "execution_count": 53,
   "metadata": {},
   "outputs": [],
   "source": [
    "import pandas as pd\n",
    "import random\n",
    "import matplotlib\n",
    "import matplotlib.pyplot as plt\n",
    "import warnings\n",
    "from sklearn.preprocessing import label_binarize\n",
    "from sklearn.svm import SVC\n",
    "from sklearn.metrics import (accuracy_score, plot_roc_curve, \n",
    "                             precision_recall_curve, plot_precision_recall_curve, f1_score, average_precision_score, \n",
    "                             hinge_loss, precision_score, recall_score, classification_report)\n",
    "from sklearn.model_selection import train_test_split, cross_val_score\n",
    "from sklearn.datasets import (load_digits, fetch_openml, load_iris,)\n",
    "from sklearn.multiclass import OneVsRestClassifier\n",
    "from scipy import stats\n",
    "from sklearn.svm import SVC\n",
    "from sklearn.metrics import accuracy_score\n",
    "warnings.filterwarnings('ignore')\n",
    "%matplotlib inline"
   ]
  },
  {
   "cell_type": "code",
   "execution_count": 54,
   "metadata": {},
   "outputs": [],
   "source": [
    "from sklearn.neighbors import KNeighborsClassifier\n",
    "\n",
    "def get_df_row(report): \n",
    "    return pd.DataFrame(report, columns = ['name' ,\n",
    "                                           'accuracy (cross-val)',\n",
    "                                           'accuracy',\n",
    "                                           'precision' ,\n",
    "                                           'recall',\n",
    "                                          ], index=[0])\n",
    "\n",
    "def evaluate_svm(X_train, X_test, y_train, y_test, kernel='linear', C=1):\n",
    "    classifier =  SVC(kernel=kernel, C=C)\n",
    "    classifier.fit(X_train, y_train)\n",
    "    y_predicted = classifier.predict(X_test)\n",
    "    report = classification_report(y_test, y_predicted, output_dict=True)['weighted avg']\n",
    "    report['name'] = 'SVM, C = {}, kernel: {}'.format(C, kernel)\n",
    "    report['accuracy'] = report['f1-score']\n",
    "    del report['f1-score']\n",
    "    report['accuracy (cross-val)'] = np.mean(cross_val_score(classifier, X_train, y_train, cv=5, scoring='accuracy'))\n",
    "    return report\n",
    "\n",
    "def evaluate_all(X_train, X_test, y_train, y_test):\n",
    "    base_df = pd.DataFrame( columns = ['name' ,\n",
    "                                       'accuracy (cross-val)',\n",
    "                                       'accuracy',\n",
    "                                       'precision' ,\n",
    "                                       'recall',\n",
    "                                      ])\n",
    "    for C in [1, 5]:\n",
    "        for kernel in ['linear', 'poly', 'rbf', 'sigmoid']:\n",
    "            report = evaluate_svm(X_train, X_test, y_train, y_test, C=C, kernel=kernel)\n",
    "            base_df = pd.concat([base_df,get_df_row(report)], ignore_index=True)\n",
    "    return base_df.sort_values(by='accuracy', ascending=False)"
   ]
  },
  {
   "cell_type": "code",
   "execution_count": 55,
   "metadata": {},
   "outputs": [],
   "source": [
    "mnist = fetch_openml(\"mnist_784\", data_home=\"./mnist_784\", cache=True)\n",
    "X_train, X_test, y_train, y_test = train_test_split(mnist.data, mnist.target, train_size=0.008, test_size=0.002, random_state=1)"
   ]
  },
  {
   "cell_type": "code",
   "execution_count": 56,
   "metadata": {},
   "outputs": [
    {
     "data": {
      "text/html": [
       "<div>\n",
       "<style scoped>\n",
       "    .dataframe tbody tr th:only-of-type {\n",
       "        vertical-align: middle;\n",
       "    }\n",
       "\n",
       "    .dataframe tbody tr th {\n",
       "        vertical-align: top;\n",
       "    }\n",
       "\n",
       "    .dataframe thead th {\n",
       "        text-align: right;\n",
       "    }\n",
       "</style>\n",
       "<table border=\"1\" class=\"dataframe\">\n",
       "  <thead>\n",
       "    <tr style=\"text-align: right;\">\n",
       "      <th></th>\n",
       "      <th>name</th>\n",
       "      <th>accuracy (cross-val)</th>\n",
       "      <th>accuracy</th>\n",
       "      <th>precision</th>\n",
       "      <th>recall</th>\n",
       "    </tr>\n",
       "  </thead>\n",
       "  <tbody>\n",
       "    <tr>\n",
       "      <th>6</th>\n",
       "      <td>SVM, C = 5, kernel: rbf</td>\n",
       "      <td>0.898214</td>\n",
       "      <td>0.864221</td>\n",
       "      <td>0.874909</td>\n",
       "      <td>0.864286</td>\n",
       "    </tr>\n",
       "    <tr>\n",
       "      <th>2</th>\n",
       "      <td>SVM, C = 1, kernel: rbf</td>\n",
       "      <td>0.885714</td>\n",
       "      <td>0.847333</td>\n",
       "      <td>0.863135</td>\n",
       "      <td>0.850000</td>\n",
       "    </tr>\n",
       "    <tr>\n",
       "      <th>5</th>\n",
       "      <td>SVM, C = 5, kernel: poly</td>\n",
       "      <td>0.835714</td>\n",
       "      <td>0.830633</td>\n",
       "      <td>0.848176</td>\n",
       "      <td>0.828571</td>\n",
       "    </tr>\n",
       "    <tr>\n",
       "      <th>0</th>\n",
       "      <td>SVM, C = 1, kernel: linear</td>\n",
       "      <td>0.844643</td>\n",
       "      <td>0.828827</td>\n",
       "      <td>0.840569</td>\n",
       "      <td>0.828571</td>\n",
       "    </tr>\n",
       "    <tr>\n",
       "      <th>4</th>\n",
       "      <td>SVM, C = 5, kernel: linear</td>\n",
       "      <td>0.844643</td>\n",
       "      <td>0.828827</td>\n",
       "      <td>0.840569</td>\n",
       "      <td>0.828571</td>\n",
       "    </tr>\n",
       "    <tr>\n",
       "      <th>3</th>\n",
       "      <td>SVM, C = 1, kernel: sigmoid</td>\n",
       "      <td>0.826786</td>\n",
       "      <td>0.783211</td>\n",
       "      <td>0.810759</td>\n",
       "      <td>0.785714</td>\n",
       "    </tr>\n",
       "    <tr>\n",
       "      <th>7</th>\n",
       "      <td>SVM, C = 5, kernel: sigmoid</td>\n",
       "      <td>0.812500</td>\n",
       "      <td>0.774343</td>\n",
       "      <td>0.790616</td>\n",
       "      <td>0.778571</td>\n",
       "    </tr>\n",
       "    <tr>\n",
       "      <th>1</th>\n",
       "      <td>SVM, C = 1, kernel: poly</td>\n",
       "      <td>0.823214</td>\n",
       "      <td>0.761675</td>\n",
       "      <td>0.795958</td>\n",
       "      <td>0.764286</td>\n",
       "    </tr>\n",
       "  </tbody>\n",
       "</table>\n",
       "</div>"
      ],
      "text/plain": [
       "                          name  accuracy (cross-val)  accuracy  precision  \\\n",
       "6      SVM, C = 5, kernel: rbf              0.898214  0.864221   0.874909   \n",
       "2      SVM, C = 1, kernel: rbf              0.885714  0.847333   0.863135   \n",
       "5     SVM, C = 5, kernel: poly              0.835714  0.830633   0.848176   \n",
       "0   SVM, C = 1, kernel: linear              0.844643  0.828827   0.840569   \n",
       "4   SVM, C = 5, kernel: linear              0.844643  0.828827   0.840569   \n",
       "3  SVM, C = 1, kernel: sigmoid              0.826786  0.783211   0.810759   \n",
       "7  SVM, C = 5, kernel: sigmoid              0.812500  0.774343   0.790616   \n",
       "1     SVM, C = 1, kernel: poly              0.823214  0.761675   0.795958   \n",
       "\n",
       "     recall  \n",
       "6  0.864286  \n",
       "2  0.850000  \n",
       "5  0.828571  \n",
       "0  0.828571  \n",
       "4  0.828571  \n",
       "3  0.785714  \n",
       "7  0.778571  \n",
       "1  0.764286  "
      ]
     },
     "execution_count": 56,
     "metadata": {},
     "output_type": "execute_result"
    }
   ],
   "source": [
    "evaluate_all(X_train, X_test, y_train, y_test)"
   ]
  },
  {
   "cell_type": "code",
   "execution_count": 57,
   "metadata": {},
   "outputs": [],
   "source": [
    "from sklearn.preprocessing import StandardScaler\n",
    "\n",
    "scaler_mnist = StandardScaler().fit(X_train)\n",
    "x_train = scaler_mnist.transform(X_train)\n",
    "x_test = scaler_mnist.transform(X_test)"
   ]
  },
  {
   "cell_type": "code",
   "execution_count": 58,
   "metadata": {},
   "outputs": [
    {
     "name": "stdout",
     "output_type": "stream",
     "text": [
      "score=0.842857, f1=0.834900\n"
     ]
    }
   ],
   "source": [
    "from sklearn.svm import SVC\n",
    "from sklearn.metrics import accuracy_score, f1_score\n",
    "\n",
    "clf = SVC(C=0.1, kernel='linear', )\n",
    "clf.fit(x_train,y_train)\n",
    "y_pred = clf.predict(x_test)\n",
    "score = accuracy_score(y_test, y_pred)\n",
    "f1 = f1_score(y_true=y_test, y_pred=y_pred, average='macro')\n",
    "print('score=%f, f1=%f' %(score, f1))"
   ]
  },
  {
   "cell_type": "markdown",
   "metadata": {},
   "source": [
    "## TNG"
   ]
  },
  {
   "cell_type": "code",
   "execution_count": 59,
   "metadata": {},
   "outputs": [],
   "source": [
    "from sklearn.feature_extraction.text import TfidfVectorizer\n",
    "from sklearn.datasets import fetch_20newsgroups\n",
    "\n",
    "categories = ['alt.atheism', 'soc.religion.christian', 'comp.graphics', 'sci.med']\n",
    "\n",
    "twenty_train = fetch_20newsgroups(shuffle=True, subset='train', random_state=42, categories=categories, remove=('headers', 'footers', 'quotes'))\n",
    "twenty_test = fetch_20newsgroups(shuffle=True, subset='test', random_state=42, categories=categories, remove=('headers', 'footers', 'quotes'))"
   ]
  },
  {
   "cell_type": "code",
   "execution_count": 60,
   "metadata": {},
   "outputs": [
    {
     "name": "stdout",
     "output_type": "stream",
     "text": [
      "2257\n",
      "[[0. 0. 0. ... 0. 0. 0.]\n",
      " [0. 0. 0. ... 0. 0. 0.]]\n"
     ]
    }
   ],
   "source": [
    "x_train = twenty_train.data[:3000]\n",
    "y_train = twenty_train.target[:3000]\n",
    "x_test = twenty_test.data[:600]\n",
    "y_test = twenty_test.target[:600]\n",
    "print(len(x_train))\n",
    "\n",
    "# convert text to vectors\n",
    "vectorizer = TfidfVectorizer()\n",
    "x_train = vectorizer.fit_transform(x_train)\n",
    "x_test = vectorizer.transform(x_test)\n",
    "print(x_train.toarray()[0:2]) "
   ]
  },
  {
   "cell_type": "code",
   "execution_count": 61,
   "metadata": {},
   "outputs": [
    {
     "data": {
      "text/plain": [
       "(2257, 28865)"
      ]
     },
     "execution_count": 61,
     "metadata": {},
     "output_type": "execute_result"
    }
   ],
   "source": [
    "x_train.shape"
   ]
  },
  {
   "cell_type": "code",
   "execution_count": 62,
   "metadata": {},
   "outputs": [
    {
     "data": {
      "text/plain": [
       "(600, 28865)"
      ]
     },
     "execution_count": 62,
     "metadata": {},
     "output_type": "execute_result"
    }
   ],
   "source": [
    "x_test.shape"
   ]
  },
  {
   "cell_type": "code",
   "execution_count": 63,
   "metadata": {},
   "outputs": [],
   "source": [
    "from sklearn.decomposition import TruncatedSVD\n",
    "from sklearn import preprocessing\n",
    "x_train = preprocessing.scale(x_train, with_mean=False)\n",
    "x_test = preprocessing.scale(x_test, with_mean=False)\n",
    "\n",
    "svd = TruncatedSVD(n_components=70)\n",
    "tng_x_train_scaled = svd.fit_transform(x_train)\n",
    "x_test_scaled = svd.transform(x_test)\n"
   ]
  },
  {
   "cell_type": "code",
   "execution_count": 64,
   "metadata": {},
   "outputs": [
    {
     "data": {
      "text/plain": [
       "[(0.625, 0.6226038638976357),\n",
       " (0.6283333333333333, 0.6252852630118809),\n",
       " (0.6183333333333333, 0.613907684309133),\n",
       " (0.6116666666666667, 0.604921477532103)]"
      ]
     },
     "execution_count": 64,
     "metadata": {},
     "output_type": "execute_result"
    }
   ],
   "source": [
    "rows_size=0.8\n",
    "tng_divided_dataset = divide_dataset(tng_x_train_scaled, y_train, rows_size=rows_size)\n",
    "\n",
    "resultss = []\n",
    "for i in [1, 3, 5, 10]:\n",
    "    result = super_k_nn(x_test_scaled, rows_size, tng_divided_dataset, 4, i)\n",
    "    result_int = [int(x) for x in result]\n",
    "    resultss.append((accuracy_score(y_true=y_test, y_pred=result_int), f1_score(y_true=y_test, y_pred=result_int, average='macro')))\n",
    "    \n",
    "resultss"
   ]
  },
  {
   "cell_type": "markdown",
   "metadata": {},
   "source": [
    "### vs SVM"
   ]
  },
  {
   "cell_type": "code",
   "execution_count": 65,
   "metadata": {},
   "outputs": [
    {
     "data": {
      "text/html": [
       "<div>\n",
       "<style scoped>\n",
       "    .dataframe tbody tr th:only-of-type {\n",
       "        vertical-align: middle;\n",
       "    }\n",
       "\n",
       "    .dataframe tbody tr th {\n",
       "        vertical-align: top;\n",
       "    }\n",
       "\n",
       "    .dataframe thead th {\n",
       "        text-align: right;\n",
       "    }\n",
       "</style>\n",
       "<table border=\"1\" class=\"dataframe\">\n",
       "  <thead>\n",
       "    <tr style=\"text-align: right;\">\n",
       "      <th></th>\n",
       "      <th>name</th>\n",
       "      <th>accuracy (cross-val)</th>\n",
       "      <th>accuracy</th>\n",
       "      <th>precision</th>\n",
       "      <th>recall</th>\n",
       "    </tr>\n",
       "  </thead>\n",
       "  <tbody>\n",
       "    <tr>\n",
       "      <th>0</th>\n",
       "      <td>SVM, C = 1, kernel: linear</td>\n",
       "      <td>0.754528</td>\n",
       "      <td>0.717857</td>\n",
       "      <td>0.733966</td>\n",
       "      <td>0.718333</td>\n",
       "    </tr>\n",
       "    <tr>\n",
       "      <th>4</th>\n",
       "      <td>SVM, C = 5, kernel: linear</td>\n",
       "      <td>0.745225</td>\n",
       "      <td>0.704639</td>\n",
       "      <td>0.717084</td>\n",
       "      <td>0.705000</td>\n",
       "    </tr>\n",
       "    <tr>\n",
       "      <th>6</th>\n",
       "      <td>SVM, C = 5, kernel: rbf</td>\n",
       "      <td>0.563121</td>\n",
       "      <td>0.534212</td>\n",
       "      <td>0.604306</td>\n",
       "      <td>0.556667</td>\n",
       "    </tr>\n",
       "    <tr>\n",
       "      <th>7</th>\n",
       "      <td>SVM, C = 5, kernel: sigmoid</td>\n",
       "      <td>0.519711</td>\n",
       "      <td>0.448909</td>\n",
       "      <td>0.517712</td>\n",
       "      <td>0.473333</td>\n",
       "    </tr>\n",
       "    <tr>\n",
       "      <th>2</th>\n",
       "      <td>SVM, C = 1, kernel: rbf</td>\n",
       "      <td>0.459886</td>\n",
       "      <td>0.374703</td>\n",
       "      <td>0.412271</td>\n",
       "      <td>0.433333</td>\n",
       "    </tr>\n",
       "    <tr>\n",
       "      <th>3</th>\n",
       "      <td>SVM, C = 1, kernel: sigmoid</td>\n",
       "      <td>0.437746</td>\n",
       "      <td>0.323623</td>\n",
       "      <td>0.378556</td>\n",
       "      <td>0.383333</td>\n",
       "    </tr>\n",
       "    <tr>\n",
       "      <th>1</th>\n",
       "      <td>SVM, C = 1, kernel: poly</td>\n",
       "      <td>0.269383</td>\n",
       "      <td>0.121204</td>\n",
       "      <td>0.077469</td>\n",
       "      <td>0.278333</td>\n",
       "    </tr>\n",
       "    <tr>\n",
       "      <th>5</th>\n",
       "      <td>SVM, C = 5, kernel: poly</td>\n",
       "      <td>0.272928</td>\n",
       "      <td>0.121204</td>\n",
       "      <td>0.077469</td>\n",
       "      <td>0.278333</td>\n",
       "    </tr>\n",
       "  </tbody>\n",
       "</table>\n",
       "</div>"
      ],
      "text/plain": [
       "                          name  accuracy (cross-val)  accuracy  precision  \\\n",
       "0   SVM, C = 1, kernel: linear              0.754528  0.717857   0.733966   \n",
       "4   SVM, C = 5, kernel: linear              0.745225  0.704639   0.717084   \n",
       "6      SVM, C = 5, kernel: rbf              0.563121  0.534212   0.604306   \n",
       "7  SVM, C = 5, kernel: sigmoid              0.519711  0.448909   0.517712   \n",
       "2      SVM, C = 1, kernel: rbf              0.459886  0.374703   0.412271   \n",
       "3  SVM, C = 1, kernel: sigmoid              0.437746  0.323623   0.378556   \n",
       "1     SVM, C = 1, kernel: poly              0.269383  0.121204   0.077469   \n",
       "5     SVM, C = 5, kernel: poly              0.272928  0.121204   0.077469   \n",
       "\n",
       "     recall  \n",
       "0  0.718333  \n",
       "4  0.705000  \n",
       "6  0.556667  \n",
       "7  0.473333  \n",
       "2  0.433333  \n",
       "3  0.383333  \n",
       "1  0.278333  \n",
       "5  0.278333  "
      ]
     },
     "execution_count": 65,
     "metadata": {},
     "output_type": "execute_result"
    }
   ],
   "source": [
    "evaluate_all(tng_x_train_scaled, x_test_scaled, y_train, y_test)"
   ]
  },
  {
   "cell_type": "code",
   "execution_count": null,
   "metadata": {},
   "outputs": [],
   "source": []
  }
 ],
 "metadata": {
  "kernelspec": {
   "display_name": "Python 3",
   "language": "python",
   "name": "python3"
  },
  "language_info": {
   "codemirror_mode": {
    "name": "ipython",
    "version": 3
   },
   "file_extension": ".py",
   "mimetype": "text/x-python",
   "name": "python",
   "nbconvert_exporter": "python",
   "pygments_lexer": "ipython3",
   "version": "3.6.1"
  }
 },
 "nbformat": 4,
 "nbformat_minor": 4
}
